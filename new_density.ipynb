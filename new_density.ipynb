{
 "cells": [
  {
   "cell_type": "code",
   "execution_count": null,
   "id": "f2551cef-b6cb-4c29-a52b-0265aeec9292",
   "metadata": {},
   "outputs": [],
   "source": [
    "import scipy.io\n",
    "import scipy\n",
    "import scipy.spatial\n",
    "import scipy.ndimage\n",
    "import numpy as np\n",
    "import os\n",
    "import torch\n",
    "from torchvision import datasets, transforms, models\n",
    "from torch.utils.tensorboard import SummaryWriter\n",
    "import gc\n",
    "\n",
    "import matplotlib.pyplot as plt\n",
    "from torch.utils.data import Dataset\n",
    "import zipfile\n",
    "import random\n",
    "\n",
    "\n",
    "import cv2\n",
    "from PIL import Image,ImageFilter,ImageDraw\n",
    "from PIL import ImageStat\n",
    "\n",
    "\n",
    "from model import CSRNet\n",
    "from dataset import listDataset\n",
    "\n",
    "from tqdm.notebook import tqdm"
   ]
  },
  {
   "cell_type": "code",
   "execution_count": null,
   "id": "6e2aac99-149c-49ff-a2c3-ebb4dd10004c",
   "metadata": {},
   "outputs": [],
   "source": [
    "# extract_data(path2zip='ShangaiTech.zip', dir_name='ShangaiTech')\n",
    "rootShangai_im = 'ShangaiTech/ShanghaiTech/part_A/train_data/images/'\n",
    "rootShangai_gt = 'ShangaiTech/ShanghaiTech/part_A/train_data/ground-truth/'"
   ]
  },
  {
   "cell_type": "code",
   "execution_count": null,
   "id": "d3e0783b-69a4-4bed-9af7-2421fd7be473",
   "metadata": {},
   "outputs": [],
   "source": [
    "def mat2numpy(path2jpg=str):\n",
    "\n",
    "    path2mat = path2jpg.replace('images', 'ground-truth').replace('IMG', 'GT_IMG').replace('jpg', 'mat')\n",
    "    image = np.asarray(Image.open(path2jpg))\n",
    "\n",
    "    print(path2jpg, path2mat)\n",
    "\n",
    "    ground_truth = scipy.io.loadmat(path2mat)\n",
    "    ground_truth = ground_truth['image_info'][0][0][0][0][0].astype(int)\n",
    "\n",
    "    return image, ground_truth"
   ]
  },
  {
   "cell_type": "code",
   "execution_count": null,
   "id": "0b9906c6-75be-4f31-8ebd-993efdaa4bf6",
   "metadata": {},
   "outputs": [],
   "source": [
    "def density_map(ground_truth=np.ndarray, img_shape=np.ndarray, k = 4, beta = 0.3):\n",
    "\n",
    "    if len(img_shape) == 3:\n",
    "        im_size = img_shape[:-1]\n",
    "    else: im_size = img_shape\n",
    "        \n",
    "    gt = ground_truth.copy()\n",
    "\n",
    "    # head_loc = np.zeros(im_size, dtype=np.float32)\n",
    "    # head_loc[gt[:,1], gt[:,0]] = 1.\n",
    "\n",
    "    density = np.zeros(im_size, dtype=np.float32)\n",
    "\n",
    "    counts = len(gt)\n",
    "    if counts == 0.:\n",
    "        return density\n",
    "\n",
    "    leafsize = 2048\n",
    "    # build kdtree\n",
    "    tree = scipy.spatial.KDTree(gt.copy(), leafsize=leafsize)\n",
    "    # query kdtree\n",
    "    distances, index = tree.query(gt, k=k)\n",
    "\n",
    "    for i, pt in enumerate(gt):\n",
    "        pt2d = np.zeros(im_size, dtype=np.float32)\n",
    "        pt2d[pt[1], pt[0]] = 1.\n",
    "\n",
    "        if counts >= k:\n",
    "            near_pt_coordinate = gt[index.astype(int)[i]]\n",
    "            near_pt_coordinate[:, 0] = near_pt_coordinate[:, 0] - pt[0]\n",
    "            near_pt_coordinate[:, 1] = near_pt_coordinate[:, 1] - pt[1]\n",
    "        \n",
    "            sigma_x = np.sum(np.abs(near_pt_coordinate[:, 0]))/(k-1)\n",
    "            sigma_y = np.sum(np.abs(near_pt_coordinate[:, 1]))/(k-1)\n",
    "            sigma = [sigma_x*beta, sigma_y*beta]\n",
    "            # sigma = distances[i, 1:].mean()*beta\n",
    "            # sigma = (distances[i][1]+distances[i][2]+distances[i][3])*0.1\n",
    "\n",
    "        else:\n",
    "            sigma = np.average(np.array(im_size))/2./2. #case: 1 point\n",
    "            \n",
    "        density += scipy.ndimage.gaussian_filter(pt2d, sigma, mode='constant')\n",
    "    \n",
    "    return density"
   ]
  },
  {
   "cell_type": "code",
   "execution_count": null,
   "id": "b93d450b-0b3b-482b-8858-cff5859d806c",
   "metadata": {},
   "outputs": [],
   "source": [
    "rootShangai_train_newdensity = 'ShangaiTech_density/ShangaiTech_newdensity/A/train_data/'\n",
    "rootShangai_test_newdensity = 'ShangaiTech_density/ShangaiTech_newdensity/A/test_data/'"
   ]
  },
  {
   "cell_type": "code",
   "execution_count": null,
   "id": "93de1fe5-cb5a-4275-bd20-5efe988ce4a8",
   "metadata": {
    "scrolled": true
   },
   "outputs": [],
   "source": [
    "for im_name in os.listdir(rootShangai_im)[60:]:\n",
    "    img , gt = mat2numpy(path2jpg=rootShangai_im+im_name)\n",
    "    den = density_map(gt, img.shape)\n",
    "\n",
    "    \n",
    "    np.save(file=rootShangai_train_newdensity+im_name.replace('IMG', 'DEN').replace('jpg', 'npy'), arr=den)"
   ]
  },
  {
   "cell_type": "code",
   "execution_count": null,
   "id": "f0f795b9-1150-4bff-a70e-60d0d118acbc",
   "metadata": {},
   "outputs": [],
   "source": [
    "rootShangai_im = 'ShangaiTech/ShanghaiTech/part_A/test_data/images/'\n",
    "for im_name in os.listdir(rootShangai_im):\n",
    "    img , gt = mat2numpy(path2jpg=rootShangai_im+im_name)\n",
    "    den = density_map(gt, img.shape)\n",
    "    \n",
    "    np.save(file=rootShangai_test_newdensity+im_name.replace('IMG', 'DEN').replace('jpg', 'npy'), arr=den)"
   ]
  },
  {
   "cell_type": "code",
   "execution_count": null,
   "id": "a573ff2e-cb23-425d-a9d0-394af8997120",
   "metadata": {},
   "outputs": [],
   "source": []
  }
 ],
 "metadata": {
  "kernelspec": {
   "display_name": "Python (torch)",
   "language": "python",
   "name": "torch"
  },
  "language_info": {
   "codemirror_mode": {
    "name": "ipython",
    "version": 3
   },
   "file_extension": ".py",
   "mimetype": "text/x-python",
   "name": "python",
   "nbconvert_exporter": "python",
   "pygments_lexer": "ipython3",
   "version": "3.10.13"
  }
 },
 "nbformat": 4,
 "nbformat_minor": 5
}
